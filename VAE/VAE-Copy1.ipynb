{
 "cells": [
  {
   "cell_type": "code",
   "execution_count": null,
   "id": "23c9b59b",
   "metadata": {},
   "outputs": [],
   "source": [
    "import torch\n",
    "import torch.nn as nn\n",
    "import numpy as np\n",
    "from scipy.stats import norm"
   ]
  },
  {
   "cell_type": "code",
   "execution_count": null,
   "id": "cb5c23d5",
   "metadata": {},
   "outputs": [],
   "source": [
    "class Encoder(nn.Module):\n",
    "    def __init__(self,im_chan=3,output_chan=4600,hidden_dim=16):\n",
    "        super(Encoder, self).__init__()\n",
    "        self.z_dim=output_chan\n",
    "        self.enc=nn.Sequential(\n",
    "            self.make_enc_block(im_chan,hidden_dim),\n",
    "            self.make_enc_block(hidden_dim,hidden_dim*2),\n",
    "            self.make_enc_block(hidden_dim*2,hidden_dim*4),\n",
    "            self.make_enc_block(hidden_dim*4,hidden_dim*8),\n",
    "            self.make_enc_block(hidden_dim * 8, hidden_dim * 8),\n",
    "            self.make_enc_block(hidden_dim*8,2*output_chan,kernel_size=4,stride=1,padding=0,final_layer=True)\n",
    "        )\n",
    "        \n",
    "    def make_enc_block(self,in_channels,out_channels,kernel_size=4,stride=2,padding=1,final_layer=False):\n",
    "        if not final_layer:\n",
    "            return nn.Sequential(\n",
    "            nn.Conv2d(in_channels,out_channels,kernel_size,stride,padding),\n",
    "            nn.BatchNorm2d(out_channels),\n",
    "            nn.LeakyReLU(0.2,inplace=True),\n",
    "            )\n",
    "        else:\n",
    "            return nn.Sequential(\n",
    "            nn.Conv2d(in_channels,out_channels,kernel_size,stride,padding)\n",
    "            )\n",
    "    \n",
    "    def forward(self,x):\n",
    "        x=self.enc(x)\n",
    "        enc=x.view(len(x),-1)\n",
    "#         print(enc.shape)\n",
    "        return enc[:,:self.z_dim],enc[:,self.z_dim:].exp()\n",
    "    \n",
    "\n",
    "    \n",
    "        "
   ]
  },
  {
   "cell_type": "code",
   "execution_count": null,
   "id": "c9882f79",
   "metadata": {},
   "outputs": [],
   "source": [
    "class Decoder(nn.Module):\n",
    "    def __init__(self, z_dim=4600, im_chan=3, hidden_dim=64):\n",
    "        super(Decoder, self).__init__()\n",
    "        self.z_dim = z_dim\n",
    "        self.gen=nn.Sequential(\n",
    "        self.make_gen_block(z_dim,hidden_dim*8,kernel_size=4,stride=1,padding=0), # ch x 4 x4\n",
    "        self.make_gen_block(hidden_dim * 8,hidden_dim * 4,kernel_size=4,stride=2,padding=1),  #ch x 8 x8\n",
    "        self.make_gen_block(hidden_dim * 4,hidden_dim*2,kernel_size=4,stride=2,padding=1), # ch x 16 x 16\n",
    "        self.make_gen_block(hidden_dim * 2,hidden_dim*1,kernel_size=4,stride=2,padding=1), # ch x 32 x 32\n",
    "        self.make_gen_block(hidden_dim * 1,hidden_dim*1,kernel_size=4,stride=2,padding=1), # ch x 64 x 64\n",
    "        self.make_gen_block(hidden_dim,im_chan,kernel_size=4,stride=2,padding=1,final_layer=True), # 128 X 128\n",
    "        )\n",
    "        \n",
    "    def make_gen_block(self, input_channels, output_channels, kernel_size=3, stride=2,padding=0,final_layer=False):\n",
    "        \n",
    "        if not final_layer:\n",
    "            return nn.Sequential(\n",
    "                nn.ConvTranspose2d(input_channels, output_channels, kernel_size, stride,padding),\n",
    "                nn.BatchNorm2d(output_channels),\n",
    "                nn.ReLU(inplace=True),\n",
    "            )\n",
    "        else:\n",
    "            return nn.Sequential(\n",
    "                nn.ConvTranspose2d(input_channels, output_channels, kernel_size, stride,padding),\n",
    "                nn.Tanh(),\n",
    "            )\n",
    "    def forward(self, noise):\n",
    "       \n",
    "        x = noise.view(len(noise), self.z_dim, 1, 1)\n",
    "        return self.gen(x)\n",
    "    "
   ]
  },
  {
   "cell_type": "code",
   "execution_count": null,
   "id": "a4e0f9f9",
   "metadata": {},
   "outputs": [],
   "source": [
    "from torch.distributions.normal import Normal\n",
    "\n",
    "class VAE(nn.Module):\n",
    "    def __init__(self,z_dim=4600,im_chan=3,hidden_dim=64):\n",
    "        super(VAE, self).__init__()\n",
    "        self.z_dim=z_dim\n",
    "        self.encoder=Encoder(im_chan,z_dim)\n",
    "        self.decoder=Decoder(z_dim,im_chan)\n",
    "        \n",
    "    def forward(self,images):\n",
    "        mean,std=self.encoder(images)\n",
    "#         print(torch.cat((mean[0].detach(),std[0].detach()),dim=0))\n",
    "        dist=Normal(mean,std)\n",
    "        z=dist.rsample()\n",
    "        decoding=self.decoder(z)\n",
    "        \n",
    "        return decoding,dist"
   ]
  },
  {
   "cell_type": "markdown",
   "id": "b9445a75",
   "metadata": {},
   "source": [
    "$\\mathrm{NLL}(x) \\propto (x-\\mu)^2$ for $x \\sim \\mathcal{N}(\\mu,\\sigma)$"
   ]
  },
  {
   "cell_type": "code",
   "execution_count": null,
   "id": "28ec939d",
   "metadata": {},
   "outputs": [],
   "source": [
    "reconstruction_loss=nn.MSELoss(reduction='sum')"
   ]
  },
  {
   "cell_type": "code",
   "execution_count": null,
   "id": "14fd57e6",
   "metadata": {},
   "outputs": [],
   "source": [
    "from torch.distributions.kl import kl_divergence\n",
    "def kl_divergence_loss(q_dist):\n",
    "    return kl_divergence(\n",
    "    q_dist,Normal(torch.zeros_like(q_dist.mean),torch.ones_like(q_dist.stddev)*2)\n",
    "    ).sum(-1)"
   ]
  },
  {
   "cell_type": "code",
   "execution_count": null,
   "id": "279056c2",
   "metadata": {},
   "outputs": [],
   "source": [
    "class AddGaussianNoise(object):\n",
    "    def __init__(self, mean=0., std=1.):\n",
    "        self.std = std\n",
    "        self.mean = mean\n",
    "        \n",
    "    def __call__(self, tensor):\n",
    "        return tensor + torch.randn(tensor.size()) * self.std + self.mean\n",
    "    \n",
    "    def __repr__(self):\n",
    "        return self.__class__.__name__ + '(mean={0}, std={1})'.format(self.mean, self.std)"
   ]
  },
  {
   "cell_type": "code",
   "execution_count": null,
   "id": "a0d94d5b",
   "metadata": {},
   "outputs": [],
   "source": [
    "from torch.utils.data.dataloader import DataLoader\n",
    "from torchvision import transforms\n",
    "from torchvision.datasets import ImageFolder\n",
    "\n",
    "batch_size=64\n",
    "\n",
    "transform=transforms.Compose([\n",
    "    transforms.ToTensor(),\n",
    "    transforms.Normalize((0.5, 0.5, 0.5), (0.5, 0.5, 0.5)),\n",
    "    transforms.Resize((128,128)),\n",
    "    [AddGaussianNoise(0, 1)]\n",
    "])\n",
    "\n",
    "data=ImageFolder(root=\"P:\\\\dataset\\\\Flickr-Faces\\\\thumbnails128x128\",transform=transform)\n",
    "dataloader=DataLoader(dataset=data,batch_size=batch_size,shuffle=True,num_workers=4,persistent_workers=True)"
   ]
  },
  {
   "cell_type": "code",
   "execution_count": null,
   "id": "4eae7e44",
   "metadata": {},
   "outputs": [],
   "source": [
    "import matplotlib.pyplot as plt\n",
    "plt.rcParams[\"figure.figsize\"]=(16,8)\n",
    "\n",
    "from torchvision.utils import make_grid\n",
    "from tqdm import tqdm\n",
    "import time\n",
    "\n",
    "def show_tensor_images(image_tensor,num_images=4,size=(3,128,128)):\n",
    "#     print(image_tensor.shape)\n",
    "    image_tensor=(image_tensor+1)/2\n",
    "    image_unflat=image_tensor.detach().cpu()\n",
    "    image_grid= make_grid(image_unflat[:num_images],nrow=5)\n",
    "    plt.axis(\"off\")\n",
    "    plt.imshow(image_grid.permute(1,2,0).squeeze())\n",
    "#     plt.show()\n",
    "    \n",
    "\n",
    "device='cuda'\n",
    "vae=VAE().to(device)\n",
    "# print(vae.parameters())\n",
    "# model_parameters = filter(lambda p: p.requires_grad, vae.parameters())\n",
    "# params = sum([np.prod(p.size()) for p in model_parameters])\n",
    "# print(params)\n",
    "# vae.load_state_dict(torch.load(\"vae.pth\"))\n",
    "vae_opt=torch.optim.Adam(vae.parameters(),lr=0.001)\n",
    "\n",
    "for epoch in range(20):\n",
    "    for images,_ in tqdm(dataloader):\n",
    "        images=images.to(device)\n",
    "        vae_opt.zero_grad()\n",
    "        recon_images,encoding=vae(images)\n",
    "        \n",
    "        loss=reconstruction_loss(recon_images,images)+kl_divergence_loss(encoding).sum()\n",
    "        loss.backward()\n",
    "        \n",
    "        vae_opt.step()\n",
    "    print(torch.mean(encoding.loc).item(),torch.mean(encoding.scale).item())\n",
    "    print(\"Epoch\",epoch,\"loss \",loss.item())\n",
    "    plt.subplot(1,2,1)\n",
    "    show_tensor_images(images)\n",
    "    plt.title(\"True\")\n",
    "    plt.subplot(1,2,2)\n",
    "    show_tensor_images(recon_images)\n",
    "    plt.title(\"Reconstructed\")\n",
    "    plt.show()\n",
    "#     torch.save(vae.decoder.state_dict(), \"vae_decoder.pth\")\n",
    "#     torch.save(vae.state_dict(), \"vae.pth\")\n",
    "        "
   ]
  },
  {
   "cell_type": "code",
   "execution_count": null,
   "id": "b065b63e",
   "metadata": {},
   "outputs": [],
   "source": [
    "gen=Decoder()\n",
    "gen.load_state_dict(torch.load(\"vae_decoder.pth\"))\n",
    "gen.eval()"
   ]
  },
  {
   "cell_type": "code",
   "execution_count": null,
   "id": "021f7d9f",
   "metadata": {},
   "outputs": [],
   "source": [
    "def show_tensor_images(image_tensor,num_images=16,size=(3,128,128),nrow=3):\n",
    "    image_tensor=(image_tensor+1)/2\n",
    "    image_unflat=image_tensor.detach().cpu()\n",
    "    image_grid=make_grid(image_unflat[:num_images],nrow=nrow)\n",
    "    plt.imshow(image_grid.permute(1,2,0).squeeze())\n",
    "    plt.show()"
   ]
  },
  {
   "cell_type": "code",
   "execution_count": 22,
   "id": "60d88624",
   "metadata": {},
   "outputs": [],
   "source": [
    "z=torch.randn(10,128)"
   ]
  },
  {
   "cell_type": "code",
   "execution_count": 23,
   "id": "1789c3ea",
   "metadata": {},
   "outputs": [],
   "source": [
    "images=gen(z)"
   ]
  },
  {
   "cell_type": "code",
   "execution_count": null,
   "id": "9ba47526",
   "metadata": {},
   "outputs": [],
   "source": [
    "show_tensor_images(images)"
   ]
  },
  {
   "cell_type": "code",
   "execution_count": null,
   "id": "5f3f73f0",
   "metadata": {},
   "outputs": [],
   "source": [
    "a=torch.load(\"vae.pth\")"
   ]
  },
  {
   "cell_type": "code",
   "execution_count": 106,
   "id": "7cca0dd8",
   "metadata": {},
   "outputs": [
    {
     "data": {
      "text/plain": [
       "odict_keys(['encoder.enc.0.0.weight', 'encoder.enc.0.0.bias', 'encoder.enc.0.1.weight', 'encoder.enc.0.1.bias', 'encoder.enc.0.1.running_mean', 'encoder.enc.0.1.running_var', 'encoder.enc.0.1.num_batches_tracked', 'encoder.enc.1.0.weight', 'encoder.enc.1.0.bias', 'encoder.enc.1.1.weight', 'encoder.enc.1.1.bias', 'encoder.enc.1.1.running_mean', 'encoder.enc.1.1.running_var', 'encoder.enc.1.1.num_batches_tracked', 'encoder.enc.2.0.weight', 'encoder.enc.2.0.bias', 'encoder.enc.2.1.weight', 'encoder.enc.2.1.bias', 'encoder.enc.2.1.running_mean', 'encoder.enc.2.1.running_var', 'encoder.enc.2.1.num_batches_tracked', 'encoder.enc.3.0.weight', 'encoder.enc.3.0.bias', 'encoder.enc.3.1.weight', 'encoder.enc.3.1.bias', 'encoder.enc.3.1.running_mean', 'encoder.enc.3.1.running_var', 'encoder.enc.3.1.num_batches_tracked', 'encoder.enc.4.0.weight', 'encoder.enc.4.0.bias', 'encoder.enc.4.1.weight', 'encoder.enc.4.1.bias', 'encoder.enc.4.1.running_mean', 'encoder.enc.4.1.running_var', 'encoder.enc.4.1.num_batches_tracked', 'encoder.enc.5.0.weight', 'encoder.enc.5.0.bias', 'decoder.gen.0.0.weight', 'decoder.gen.0.0.bias', 'decoder.gen.0.1.weight', 'decoder.gen.0.1.bias', 'decoder.gen.0.1.running_mean', 'decoder.gen.0.1.running_var', 'decoder.gen.0.1.num_batches_tracked', 'decoder.gen.1.0.weight', 'decoder.gen.1.0.bias', 'decoder.gen.1.1.weight', 'decoder.gen.1.1.bias', 'decoder.gen.1.1.running_mean', 'decoder.gen.1.1.running_var', 'decoder.gen.1.1.num_batches_tracked', 'decoder.gen.2.0.weight', 'decoder.gen.2.0.bias', 'decoder.gen.2.1.weight', 'decoder.gen.2.1.bias', 'decoder.gen.2.1.running_mean', 'decoder.gen.2.1.running_var', 'decoder.gen.2.1.num_batches_tracked', 'decoder.gen.3.0.weight', 'decoder.gen.3.0.bias', 'decoder.gen.3.1.weight', 'decoder.gen.3.1.bias', 'decoder.gen.3.1.running_mean', 'decoder.gen.3.1.running_var', 'decoder.gen.3.1.num_batches_tracked', 'decoder.gen.4.0.weight', 'decoder.gen.4.0.bias', 'decoder.gen.4.1.weight', 'decoder.gen.4.1.bias', 'decoder.gen.4.1.running_mean', 'decoder.gen.4.1.running_var', 'decoder.gen.4.1.num_batches_tracked', 'decoder.gen.5.0.weight', 'decoder.gen.5.0.bias'])"
      ]
     },
     "execution_count": 106,
     "metadata": {},
     "output_type": "execute_result"
    }
   ],
   "source": [
    "a.keys()\n"
   ]
  },
  {
   "cell_type": "code",
   "execution_count": null,
   "id": "8e7e2b74",
   "metadata": {},
   "outputs": [],
   "source": []
  }
 ],
 "metadata": {
  "kernelspec": {
   "display_name": "Python 3",
   "language": "python",
   "name": "python3"
  },
  "language_info": {
   "codemirror_mode": {
    "name": "ipython",
    "version": 3
   },
   "file_extension": ".py",
   "mimetype": "text/x-python",
   "name": "python",
   "nbconvert_exporter": "python",
   "pygments_lexer": "ipython3",
   "version": "3.8.8"
  }
 },
 "nbformat": 4,
 "nbformat_minor": 5
}
